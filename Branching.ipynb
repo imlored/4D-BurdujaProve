{
  "nbformat": 4,
  "nbformat_minor": 0,
  "metadata": {
    "colab": {
      "name": "Branching.ipynb",
      "version": "0.3.2",
      "provenance": [],
      "collapsed_sections": [],
      "toc_visible": true
    },
    "kernelspec": {
      "name": "python3",
      "display_name": "Python 3"
    }
  },
  "cells": [
    {
      "metadata": {
        "id": "9Zesc_zECzae",
        "colab_type": "text"
      },
      "cell_type": "markdown",
      "source": [
        " ### Branching\n",
        "\n",
        "In questo notebook faremo delle prove di branching con un repository di nome `primoBranch`. Mettiamo prima le celle di tipo \"utility\" per inizializzare o cancellare/ripristinare l'ambiente."
      ]
    },
    {
      "metadata": {
        "id": "Zm8qosHS9Vn3",
        "colab_type": "code",
        "colab": {
          "base_uri": "https://localhost:8080/",
          "height": 35
        },
        "outputId": "96e46c36-d414-44b1-aa14-3b21d38c6c29"
      },
      "cell_type": "code",
      "source": [
        "# 0. cella per il ripristino dell'ambiente;\n",
        "% cd\n",
        "% rm -rf primoBranch"
      ],
      "execution_count": 1,
      "outputs": [
        {
          "output_type": "stream",
          "text": [
            "/root\n"
          ],
          "name": "stdout"
        }
      ]
    },
    {
      "metadata": {
        "id": "qti7TTVl9n43",
        "colab_type": "code",
        "colab": {
          "base_uri": "https://localhost:8080/",
          "height": 53
        },
        "outputId": "e63c3834-0e7c-4627-8995-9ec933b84674"
      },
      "cell_type": "code",
      "source": [
        "# 1. Passo configurazione dell'utente\n",
        "%%bash\n",
        "git config --global user.name \"imlored\"\n",
        "git config --global user.email \"burduja.loredana@liceomorin.net\"\n",
        "git config --list"
      ],
      "execution_count": 2,
      "outputs": [
        {
          "output_type": "stream",
          "text": [
            "user.name=imlored\n",
            "user.email=burduja.loredana@liceomorin.net\n"
          ],
          "name": "stdout"
        }
      ]
    },
    {
      "metadata": {
        "id": "Rq-EsMp49rHl",
        "colab_type": "code",
        "colab": {
          "base_uri": "https://localhost:8080/",
          "height": 53
        },
        "outputId": "447c3c67-1a3a-4aa5-b4ca-cca7302706ed"
      },
      "cell_type": "code",
      "source": [
        "# 3. costruisci una directory di nome `primoBranch`, entraci e inizializza il repository;\n",
        "% mkdir primoBranch\n",
        "% cd primoBranch\n",
        "# create a new git repository:\n",
        "! git init"
      ],
      "execution_count": 3,
      "outputs": [
        {
          "output_type": "stream",
          "text": [
            "/root/primoBranch\n",
            "Initialized empty Git repository in /root/primoBranch/.git/\n"
          ],
          "name": "stdout"
        }
      ]
    },
    {
      "metadata": {
        "id": "Rd7Apief-LNu",
        "colab_type": "code",
        "outputId": "8204ff66-b956-4065-ff02-60dbf669275d",
        "colab": {
          "base_uri": "https://localhost:8080/",
          "height": 88
        }
      },
      "cell_type": "code",
      "source": [
        "# 4. modifica del repository\n",
        "! echo \"# Prova di brancing\" > README.md\n",
        "! echo \"### 1. Versione Principale\" >> README.md\n",
        "! echo \"1.\" > file1.txt\n",
        "! git add README.md file1.txt\n",
        "! git commit -m \"Prima modifica nel master\""
      ],
      "execution_count": 4,
      "outputs": [
        {
          "output_type": "stream",
          "text": [
            "[master (root-commit) 563f33b] Prima modifica nel master\n",
            " 2 files changed, 3 insertions(+)\n",
            " create mode 100644 README.md\n",
            " create mode 100644 file1.txt\n"
          ],
          "name": "stdout"
        }
      ]
    },
    {
      "metadata": {
        "id": "ORa2gXLv-QAO",
        "colab_type": "code",
        "colab": {
          "base_uri": "https://localhost:8080/",
          "height": 71
        },
        "outputId": "8062bbcb-2bf8-4a8c-952f-a965aa0a109c"
      },
      "cell_type": "code",
      "source": [
        "# 5. lista commit\n",
        "! git shortlog"
      ],
      "execution_count": 5,
      "outputs": [
        {
          "output_type": "stream",
          "text": [
            "imlored (1):\n",
            "      Prima modifica nel master\n",
            "\n"
          ],
          "name": "stdout"
        }
      ]
    },
    {
      "metadata": {
        "id": "mrC2jvyHB_mc",
        "colab_type": "code",
        "outputId": "7e252855-d53a-499e-dd82-67add7d28e68",
        "colab": {
          "base_uri": "https://localhost:8080/",
          "height": 71
        }
      },
      "cell_type": "code",
      "source": [
        "# 6. costruzione di un branch e modifica del repository (nella parte branch)\n",
        "! git checkout -b ver2\n",
        "! echo \"### Versione branch\" >> README.md\n",
        "! echo \"2.\" >> file1.txt\n",
        "! git add README.md file1.txt\n",
        "! git commit -m \"Prima modifica nel brach\"\n"
      ],
      "execution_count": 6,
      "outputs": [
        {
          "output_type": "stream",
          "text": [
            "Switched to a new branch 'ver2'\n",
            "[ver2 fe8223f] Prima modifica nel brach\n",
            " 2 files changed, 2 insertions(+)\n"
          ],
          "name": "stdout"
        }
      ]
    },
    {
      "metadata": {
        "id": "eQtmxE3h-gn8",
        "colab_type": "code",
        "colab": {
          "base_uri": "https://localhost:8080/",
          "height": 88
        },
        "outputId": "6bcf8d98-f4de-4d88-e31a-f2f83e8ec159"
      },
      "cell_type": "code",
      "source": [
        "# 7. lista commit\n",
        "! git shortlog"
      ],
      "execution_count": 7,
      "outputs": [
        {
          "output_type": "stream",
          "text": [
            "imlored (2):\n",
            "      Prima modifica nel master\n",
            "      Prima modifica nel brach\n",
            "\n"
          ],
          "name": "stdout"
        }
      ]
    },
    {
      "metadata": {
        "id": "T0REDpTjCiSa",
        "colab_type": "code",
        "colab": {
          "base_uri": "https://localhost:8080/",
          "height": 142
        },
        "outputId": "83c26d1b-d978-4a7d-b436-8dd1a51696a4"
      },
      "cell_type": "code",
      "source": [
        "# 8. modifica al master\n",
        "! git checkout master\n",
        "! cat README.md\n",
        "! echo -----------------------------------------\n",
        "! cat file1.txt\n",
        "! echo \"### Altra modifica nel master\" >> README.md\n",
        "! echo \"3.\" >> file1.txt\n",
        "! git add README.md file1.txt\n",
        "! git commit -m \"Seconda modifica nel master\""
      ],
      "execution_count": 8,
      "outputs": [
        {
          "output_type": "stream",
          "text": [
            "Switched to branch 'master'\n",
            "# Prova di brancing\n",
            "### 1. Versione Principale\n",
            "-----------------------------------------\n",
            "1.\n",
            "[master ac13f68] Seconda modifica nel master\n",
            " 2 files changed, 2 insertions(+)\n"
          ],
          "name": "stdout"
        }
      ]
    },
    {
      "metadata": {
        "id": "Cv5f0vWrCkJ_",
        "colab_type": "code",
        "colab": {
          "base_uri": "https://localhost:8080/",
          "height": 178
        },
        "outputId": "04b17ed5-aaef-48f4-ba32-f17dd642a0dd"
      },
      "cell_type": "code",
      "source": [
        "# 9. modifica al branch\n",
        "! git checkout ver2\n",
        "! cat README.md\n",
        "! echo -----------------------------------------\n",
        "! cat file1.txt\n",
        "! echo \"### Altra modifica nel branch\" >> README.md\n",
        "! echo \"4.\" >> file1.txt\n",
        "! git add README.md file1.txt\n",
        "! git commit -m \"Seconda modifica nel branch\""
      ],
      "execution_count": 9,
      "outputs": [
        {
          "output_type": "stream",
          "text": [
            "Switched to branch 'ver2'\n",
            "# Prova di brancing\n",
            "### 1. Versione Principale\n",
            "### Versione branch\n",
            "-----------------------------------------\n",
            "1.\n",
            "2.\n",
            "[ver2 c052298] Seconda modifica nel branch\n",
            " 2 files changed, 2 insertions(+)\n"
          ],
          "name": "stdout"
        }
      ]
    },
    {
      "metadata": {
        "id": "_XsQ35YhCmky",
        "colab_type": "code",
        "colab": {}
      },
      "cell_type": "code",
      "source": [
        "# 10. lista commit\n",
        "! git shortlog"
      ],
      "execution_count": 0,
      "outputs": []
    },
    {
      "metadata": {
        "id": "qnKqY8YFH3Qs",
        "colab_type": "code",
        "outputId": "28288f7b-5a58-4f2d-843a-75de22244a47",
        "colab": {
          "base_uri": "https://localhost:8080/",
          "height": 125
        }
      },
      "cell_type": "code",
      "source": [
        "# 11. rappresentazione grafica di TUTTI i commit effettuati\n",
        "from IPython.display import Image\n",
        "Image(url='https://raw.githubusercontent.com/sdoro/images/master/git/branching.png')"
      ],
      "execution_count": 0,
      "outputs": [
        {
          "output_type": "execute_result",
          "data": {
            "text/html": [
              "<img src=\"https://raw.githubusercontent.com/sdoro/images/master/git/branching.png\"/>"
            ],
            "text/plain": [
              "<IPython.core.display.Image object>"
            ]
          },
          "metadata": {
            "tags": []
          },
          "execution_count": 11
        }
      ]
    },
    {
      "metadata": {
        "id": "15-5OQMyKyC7",
        "colab_type": "text"
      },
      "cell_type": "markdown",
      "source": [
        "### Esercizio di riflessione sulla gestione delle versioni\n",
        "\n",
        "Rispondere alle seguenti domande (e riportare su classroom):\n",
        "1. al passo 9 prima del commit che cosa contiene il file `file1.txt` ? e dopo il run della cella?\n",
        "2. al passo 8 prima del commit che cosa contiene il file `file1.txt` ? e dopo il run della cella?\n",
        "3. al passo 6 prima del commit che cosa contiene il file `file1.txt` ? e dopo il run della cella?\n",
        "4. al termine del passo 9 che cosa contiene il file `README.md` ?\n",
        "5. al termine del passo 8 che cosa contiene il file `README.md` ?"
      ]
    }
  ]
}